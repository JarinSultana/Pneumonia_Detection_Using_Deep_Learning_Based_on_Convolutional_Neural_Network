{
  "nbformat": 4,
  "nbformat_minor": 0,
  "metadata": {
    "colab": {
      "name": "Pneumonia Detection Using Deep Learning Based on Convolutional Neural Network.ipynb",
      "provenance": []
    },
    "kernelspec": {
      "name": "python3",
      "display_name": "Python 3"
    },
    "language_info": {
      "name": "python"
    },
    "accelerator": "GPU"
  },
  "cells": [
    {
      "cell_type": "markdown",
      "source": [
        "# **Import Libraries**"
      ],
      "metadata": {
        "id": "TJ1A-YJW7Ka5"
      }
    },
    {
      "cell_type": "code",
      "execution_count": null,
      "metadata": {
        "id": "5HY2_moX4J0G"
      },
      "outputs": [],
      "source": [
        "import os\n",
        "import keras\n",
        "import tensorflow as tf \n",
        "from tensorflow import keras\n",
        "from google.colab import drive\n",
        "import matplotlib.pyplot as plt\n",
        "from keras.models import Sequential\n",
        "from keras.preprocessing.image import ImageDataGenerator\n",
        "from keras.layers import Conv2D,MaxPooling2D,Flatten,Dropout,Dense,BatchNormalization,SpatialDropout2D"
      ]
    },
    {
      "cell_type": "markdown",
      "source": [
        "# **Load Data**"
      ],
      "metadata": {
        "id": "rX2TtvFx7MCq"
      }
    },
    {
      "cell_type": "code",
      "source": [
        "drive.mount('/content/drive')"
      ],
      "metadata": {
        "colab": {
          "base_uri": "https://localhost:8080/"
        },
        "id": "0Xn8FFDP67Dn",
        "outputId": "e9a5db86-1aaa-4a1c-92e7-1cf21a268d1b"
      },
      "execution_count": null,
      "outputs": [
        {
          "output_type": "stream",
          "name": "stdout",
          "text": [
            "Mounted at /content/drive\n"
          ]
        }
      ]
    },
    {
      "cell_type": "code",
      "source": [
        "os.chdir('/content/drive/Shareddrives/Jinishpati Pro Max/soft_com/input/chest_xray')\n",
        "!pwd"
      ],
      "metadata": {
        "colab": {
          "base_uri": "https://localhost:8080/"
        },
        "id": "QYrkfxri7ETd",
        "outputId": "12004ddb-e9a0-45be-c368-7818d172f416"
      },
      "execution_count": null,
      "outputs": [
        {
          "output_type": "stream",
          "name": "stdout",
          "text": [
            "/content/drive/Shareddrives/Jinishpati Pro Max/soft_com/input/chest_xray\n"
          ]
        }
      ]
    },
    {
      "cell_type": "markdown",
      "source": [
        "# Preprocessing Data"
      ],
      "metadata": {
        "id": "01mMDcxd7U6k"
      }
    },
    {
      "cell_type": "code",
      "source": [
        "#Preprocessing the Training set\n",
        "train_datagen = ImageDataGenerator(\n",
        "        rescale=1./255,\n",
        "        shear_range=0.2,\n",
        "        zoom_range=0.2,\n",
        "        horizontal_flip=True)\n",
        "\n",
        "test_datagen = ImageDataGenerator(rescale=1./255)\n",
        "\n",
        "training_set = train_datagen.flow_from_directory(\n",
        "        '/content/drive/Shareddrives/Jinishpati Pro Max/soft_com/input/chest_xray/train',\n",
        "        target_size=(128,128),\n",
        "        batch_size=16 ,\n",
        "        class_mode='binary')\n",
        "\n",
        "\n",
        "#Preprocessing the Test set\n",
        "test_datagen = ImageDataGenerator(rescale = 1./255)\n",
        "\n",
        "test_set = test_datagen.flow_from_directory(\n",
        "        '/content/drive/Shareddrives/Jinishpati Pro Max/soft_com/input/chest_xray/test',\n",
        "        target_size=(128,128),\n",
        "        batch_size=16,\n",
        "        class_mode='binary')"
      ],
      "metadata": {
        "colab": {
          "base_uri": "https://localhost:8080/"
        },
        "id": "6MoSI-GQ7WYN",
        "outputId": "b6fee49c-e756-4aa1-cfe7-c04c606674cb"
      },
      "execution_count": null,
      "outputs": [
        {
          "output_type": "stream",
          "name": "stdout",
          "text": [
            "Found 5216 images belonging to 2 classes.\n",
            "Found 624 images belonging to 2 classes.\n"
          ]
        }
      ]
    },
    {
      "cell_type": "markdown",
      "source": [
        "# **CNN**"
      ],
      "metadata": {
        "id": "O3F5Ym8s7p07"
      }
    },
    {
      "cell_type": "code",
      "source": [
        "#Initialising the CNN\n",
        "cnn = tf.keras.models.Sequential()\n",
        "\n",
        "#Layers\n",
        "\n",
        "cnn.add(tf.keras.layers.Conv2D(filters=32, kernel_size=3, padding='same', activation='relu', input_shape=[128,128, 3])) #Step 1 - Convolution\n",
        "cnn.add(tf.keras.layers.MaxPool2D(pool_size=2, strides=2)) #Step 2 - Pooling\n",
        "cnn.add(SpatialDropout2D(0.1))\n",
        "\n",
        "cnn.add(tf.keras.layers.Conv2D(filters=32, kernel_size=3, padding='same', activation='relu')) #Step 1 - Convolution\n",
        "cnn.add(tf.keras.layers.MaxPool2D(pool_size=2, strides=2)) #Step 2 - Pooling\n",
        "cnn.add(BatchNormalization())\n",
        "cnn.add(SpatialDropout2D(0.2))\n",
        "\n",
        "cnn.add(tf.keras.layers.Conv2D(filters=32, kernel_size=3, padding='same', activation='relu')) #Step 1 - Convolution\n",
        "cnn.add(tf.keras.layers.MaxPool2D(pool_size=2, strides=2)) #Step 2 - Pooling\n",
        "cnn.add(BatchNormalization())\n",
        "cnn.add(SpatialDropout2D(0.2))\n",
        "\n",
        "cnn.add(tf.keras.layers.Conv2D(filters=32, kernel_size=3, padding='same', activation='relu')) #Step 1 - Convolution\n",
        "cnn.add(tf.keras.layers.MaxPool2D(pool_size=2, strides=2)) #Step 2 - Pooling\n",
        "cnn.add(BatchNormalization())\n",
        "cnn.add(SpatialDropout2D(0.3))\n",
        "\n",
        "cnn.add(tf.keras.layers.Conv2D(filters=32, kernel_size=3, padding='same', activation='relu')) #Step 1 - Convolution\n",
        "cnn.add(tf.keras.layers.MaxPool2D(pool_size=2, strides=2)) #Step 2 - Pooling\n",
        "cnn.add(BatchNormalization())\n",
        "cnn.add(SpatialDropout2D(0.3))\n",
        "\n",
        "cnn.add(tf.keras.layers.Conv2D(filters=32, kernel_size=3, padding='same', activation='relu')) #Step 1 - Convolution\n",
        "cnn.add(tf.keras.layers.MaxPool2D(pool_size=2, strides=2)) #Step 2 - Pooling\n",
        "cnn.add(BatchNormalization())\n",
        "cnn.add(SpatialDropout2D(0.3))\n",
        "\n",
        "cnn.add(tf.keras.layers.Conv2D(filters=32, kernel_size=3, padding='same', activation='relu')) #Step 1 - Convolution\n",
        "cnn.add(tf.keras.layers.MaxPool2D(pool_size=2, strides=2)) #Step 2 - Pooling\n",
        "cnn.add(BatchNormalization())\n",
        "cnn.add(SpatialDropout2D(0.5))\n",
        "\n",
        "cnn.add(tf.keras.layers.Flatten()) #Step 3 - Flattening\n",
        "cnn.add(Dropout(0.5))\n",
        "cnn.add(tf.keras.layers.Dense(units=128, activation='relu')) #Step 4 - Full Connection\n",
        "cnn.add(Dropout(0.5))\n",
        "cnn.add(tf.keras.layers.Dense(units=128, activation='relu')) #Step 4 - Full Connection\n",
        "cnn.add(Dropout(0.5))\n",
        "cnn.add(tf.keras.layers.Dense(units=1, activation='sigmoid')) #Step 5 - Output Layer\n",
        "\n",
        "\n",
        "#Compiling the CNN\n",
        "adam=keras.optimizers.Adam(learning_rate=0.001)\n",
        "cnn.compile(optimizer = 'adam', loss = 'binary_crossentropy', metrics = ['accuracy'])\n",
        "\n",
        "#Summary\n",
        "cnn.summary()"
      ],
      "metadata": {
        "colab": {
          "base_uri": "https://localhost:8080/"
        },
        "id": "QMwY9Z0g8P_K",
        "outputId": "5a2c0491-2ce1-4de7-d9f8-68b41115851f"
      },
      "execution_count": null,
      "outputs": [
        {
          "output_type": "stream",
          "name": "stdout",
          "text": [
            "Model: \"sequential\"\n",
            "_________________________________________________________________\n",
            " Layer (type)                Output Shape              Param #   \n",
            "=================================================================\n",
            " conv2d (Conv2D)             (None, 128, 128, 32)      896       \n",
            "                                                                 \n",
            " max_pooling2d (MaxPooling2D  (None, 64, 64, 32)       0         \n",
            " )                                                               \n",
            "                                                                 \n",
            " spatial_dropout2d (SpatialD  (None, 64, 64, 32)       0         \n",
            " ropout2D)                                                       \n",
            "                                                                 \n",
            " conv2d_1 (Conv2D)           (None, 64, 64, 32)        9248      \n",
            "                                                                 \n",
            " max_pooling2d_1 (MaxPooling  (None, 32, 32, 32)       0         \n",
            " 2D)                                                             \n",
            "                                                                 \n",
            " batch_normalization (BatchN  (None, 32, 32, 32)       128       \n",
            " ormalization)                                                   \n",
            "                                                                 \n",
            " spatial_dropout2d_1 (Spatia  (None, 32, 32, 32)       0         \n",
            " lDropout2D)                                                     \n",
            "                                                                 \n",
            " conv2d_2 (Conv2D)           (None, 32, 32, 32)        9248      \n",
            "                                                                 \n",
            " max_pooling2d_2 (MaxPooling  (None, 16, 16, 32)       0         \n",
            " 2D)                                                             \n",
            "                                                                 \n",
            " batch_normalization_1 (Batc  (None, 16, 16, 32)       128       \n",
            " hNormalization)                                                 \n",
            "                                                                 \n",
            " spatial_dropout2d_2 (Spatia  (None, 16, 16, 32)       0         \n",
            " lDropout2D)                                                     \n",
            "                                                                 \n",
            " conv2d_3 (Conv2D)           (None, 16, 16, 32)        9248      \n",
            "                                                                 \n",
            " max_pooling2d_3 (MaxPooling  (None, 8, 8, 32)         0         \n",
            " 2D)                                                             \n",
            "                                                                 \n",
            " batch_normalization_2 (Batc  (None, 8, 8, 32)         128       \n",
            " hNormalization)                                                 \n",
            "                                                                 \n",
            " spatial_dropout2d_3 (Spatia  (None, 8, 8, 32)         0         \n",
            " lDropout2D)                                                     \n",
            "                                                                 \n",
            " conv2d_4 (Conv2D)           (None, 8, 8, 32)          9248      \n",
            "                                                                 \n",
            " max_pooling2d_4 (MaxPooling  (None, 4, 4, 32)         0         \n",
            " 2D)                                                             \n",
            "                                                                 \n",
            " batch_normalization_3 (Batc  (None, 4, 4, 32)         128       \n",
            " hNormalization)                                                 \n",
            "                                                                 \n",
            " spatial_dropout2d_4 (Spatia  (None, 4, 4, 32)         0         \n",
            " lDropout2D)                                                     \n",
            "                                                                 \n",
            " conv2d_5 (Conv2D)           (None, 4, 4, 32)          9248      \n",
            "                                                                 \n",
            " max_pooling2d_5 (MaxPooling  (None, 2, 2, 32)         0         \n",
            " 2D)                                                             \n",
            "                                                                 \n",
            " batch_normalization_4 (Batc  (None, 2, 2, 32)         128       \n",
            " hNormalization)                                                 \n",
            "                                                                 \n",
            " spatial_dropout2d_5 (Spatia  (None, 2, 2, 32)         0         \n",
            " lDropout2D)                                                     \n",
            "                                                                 \n",
            " conv2d_6 (Conv2D)           (None, 2, 2, 32)          9248      \n",
            "                                                                 \n",
            " max_pooling2d_6 (MaxPooling  (None, 1, 1, 32)         0         \n",
            " 2D)                                                             \n",
            "                                                                 \n",
            " batch_normalization_5 (Batc  (None, 1, 1, 32)         128       \n",
            " hNormalization)                                                 \n",
            "                                                                 \n",
            " spatial_dropout2d_6 (Spatia  (None, 1, 1, 32)         0         \n",
            " lDropout2D)                                                     \n",
            "                                                                 \n",
            " flatten (Flatten)           (None, 32)                0         \n",
            "                                                                 \n",
            " dropout (Dropout)           (None, 32)                0         \n",
            "                                                                 \n",
            " dense (Dense)               (None, 128)               4224      \n",
            "                                                                 \n",
            " dropout_1 (Dropout)         (None, 128)               0         \n",
            "                                                                 \n",
            " dense_1 (Dense)             (None, 128)               16512     \n",
            "                                                                 \n",
            " dropout_2 (Dropout)         (None, 128)               0         \n",
            "                                                                 \n",
            " dense_2 (Dense)             (None, 1)                 129       \n",
            "                                                                 \n",
            "=================================================================\n",
            "Total params: 78,017\n",
            "Trainable params: 77,633\n",
            "Non-trainable params: 384\n",
            "_________________________________________________________________\n"
          ]
        }
      ]
    },
    {
      "cell_type": "code",
      "source": [
        "cnn1 = cnn.fit_generator(\n",
        "        training_set, steps_per_epoch=326, epochs=50, validation_data=test_set, validation_steps=39)"
      ],
      "metadata": {
        "colab": {
          "base_uri": "https://localhost:8080/"
        },
        "id": "lCPD0fhL8xPg",
        "outputId": "76a717aa-d76f-4305-8da4-4f02182f6da6"
      },
      "execution_count": null,
      "outputs": [
        {
          "output_type": "stream",
          "name": "stderr",
          "text": [
            "/usr/local/lib/python3.7/dist-packages/ipykernel_launcher.py:2: UserWarning: `Model.fit_generator` is deprecated and will be removed in a future version. Please use `Model.fit`, which supports generators.\n",
            "  \n"
          ]
        },
        {
          "output_type": "stream",
          "name": "stdout",
          "text": [
            "Epoch 1/50\n",
            "326/326 [==============================] - 704s 2s/step - loss: 0.6781 - accuracy: 0.6929 - val_loss: 0.6565 - val_accuracy: 0.6250\n",
            "Epoch 2/50\n",
            "326/326 [==============================] - 101s 310ms/step - loss: 0.5920 - accuracy: 0.7291 - val_loss: 0.6295 - val_accuracy: 0.6250\n",
            "Epoch 3/50\n",
            "326/326 [==============================] - 104s 319ms/step - loss: 0.5688 - accuracy: 0.7345 - val_loss: 0.6020 - val_accuracy: 0.6250\n",
            "Epoch 4/50\n",
            "326/326 [==============================] - 100s 308ms/step - loss: 0.5320 - accuracy: 0.7419 - val_loss: 0.5242 - val_accuracy: 0.6250\n",
            "Epoch 5/50\n",
            "326/326 [==============================] - 101s 310ms/step - loss: 0.4794 - accuracy: 0.7623 - val_loss: 0.5354 - val_accuracy: 0.6298\n",
            "Epoch 6/50\n",
            "326/326 [==============================] - 100s 306ms/step - loss: 0.4394 - accuracy: 0.7910 - val_loss: 0.4678 - val_accuracy: 0.7788\n",
            "Epoch 7/50\n",
            "326/326 [==============================] - 100s 308ms/step - loss: 0.3843 - accuracy: 0.8322 - val_loss: 0.6147 - val_accuracy: 0.6683\n",
            "Epoch 8/50\n",
            "326/326 [==============================] - 103s 315ms/step - loss: 0.3598 - accuracy: 0.8449 - val_loss: 0.3798 - val_accuracy: 0.8269\n",
            "Epoch 9/50\n",
            "326/326 [==============================] - 104s 320ms/step - loss: 0.3244 - accuracy: 0.8587 - val_loss: 0.3671 - val_accuracy: 0.8958\n",
            "Epoch 10/50\n",
            "326/326 [==============================] - 99s 304ms/step - loss: 0.2993 - accuracy: 0.8740 - val_loss: 0.4064 - val_accuracy: 0.8734\n",
            "Epoch 11/50\n",
            "326/326 [==============================] - 98s 300ms/step - loss: 0.2780 - accuracy: 0.8928 - val_loss: 0.3534 - val_accuracy: 0.8878\n",
            "Epoch 12/50\n",
            "326/326 [==============================] - 97s 298ms/step - loss: 0.2757 - accuracy: 0.8913 - val_loss: 0.3558 - val_accuracy: 0.8926\n",
            "Epoch 13/50\n",
            "326/326 [==============================] - 101s 311ms/step - loss: 0.2661 - accuracy: 0.8951 - val_loss: 0.3594 - val_accuracy: 0.9006\n",
            "Epoch 14/50\n",
            "326/326 [==============================] - 102s 313ms/step - loss: 0.2614 - accuracy: 0.9003 - val_loss: 0.3649 - val_accuracy: 0.8910\n",
            "Epoch 15/50\n",
            "326/326 [==============================] - 102s 314ms/step - loss: 0.2385 - accuracy: 0.9109 - val_loss: 0.3559 - val_accuracy: 0.8910\n",
            "Epoch 16/50\n",
            "326/326 [==============================] - 101s 311ms/step - loss: 0.2419 - accuracy: 0.9116 - val_loss: 0.3747 - val_accuracy: 0.8958\n",
            "Epoch 17/50\n",
            "326/326 [==============================] - 103s 317ms/step - loss: 0.2441 - accuracy: 0.9061 - val_loss: 0.3519 - val_accuracy: 0.9038\n",
            "Epoch 18/50\n",
            "326/326 [==============================] - 105s 323ms/step - loss: 0.2350 - accuracy: 0.9153 - val_loss: 0.3293 - val_accuracy: 0.8990\n",
            "Epoch 19/50\n",
            "326/326 [==============================] - 108s 331ms/step - loss: 0.2166 - accuracy: 0.9166 - val_loss: 0.3730 - val_accuracy: 0.9054\n",
            "Epoch 20/50\n",
            "326/326 [==============================] - 108s 330ms/step - loss: 0.2173 - accuracy: 0.9210 - val_loss: 0.3565 - val_accuracy: 0.9038\n",
            "Epoch 21/50\n",
            "326/326 [==============================] - 108s 332ms/step - loss: 0.2042 - accuracy: 0.9268 - val_loss: 0.3800 - val_accuracy: 0.9006\n",
            "Epoch 22/50\n",
            "326/326 [==============================] - 108s 332ms/step - loss: 0.2168 - accuracy: 0.9264 - val_loss: 0.3614 - val_accuracy: 0.8942\n",
            "Epoch 23/50\n",
            "326/326 [==============================] - 107s 327ms/step - loss: 0.2010 - accuracy: 0.9256 - val_loss: 0.2746 - val_accuracy: 0.9135\n",
            "Epoch 24/50\n",
            "326/326 [==============================] - 104s 318ms/step - loss: 0.2021 - accuracy: 0.9273 - val_loss: 0.4695 - val_accuracy: 0.8782\n",
            "Epoch 25/50\n",
            "326/326 [==============================] - 101s 311ms/step - loss: 0.2045 - accuracy: 0.9294 - val_loss: 0.3913 - val_accuracy: 0.8446\n",
            "Epoch 26/50\n",
            "326/326 [==============================] - 104s 318ms/step - loss: 0.2044 - accuracy: 0.9266 - val_loss: 0.3137 - val_accuracy: 0.9103\n",
            "Epoch 27/50\n",
            "326/326 [==============================] - 104s 318ms/step - loss: 0.2058 - accuracy: 0.9316 - val_loss: 0.3376 - val_accuracy: 0.9022\n",
            "Epoch 28/50\n",
            "326/326 [==============================] - 102s 312ms/step - loss: 0.1932 - accuracy: 0.9369 - val_loss: 0.4972 - val_accuracy: 0.8590\n",
            "Epoch 29/50\n",
            "326/326 [==============================] - 102s 313ms/step - loss: 0.2112 - accuracy: 0.9271 - val_loss: 0.3186 - val_accuracy: 0.8990\n",
            "Epoch 30/50\n",
            "326/326 [==============================] - 103s 316ms/step - loss: 0.1892 - accuracy: 0.9331 - val_loss: 0.3059 - val_accuracy: 0.9183\n",
            "Epoch 31/50\n",
            "326/326 [==============================] - 103s 316ms/step - loss: 0.1918 - accuracy: 0.9319 - val_loss: 0.3249 - val_accuracy: 0.9038\n",
            "Epoch 32/50\n",
            "326/326 [==============================] - 103s 315ms/step - loss: 0.1885 - accuracy: 0.9321 - val_loss: 0.3444 - val_accuracy: 0.9103\n",
            "Epoch 33/50\n",
            "326/326 [==============================] - 103s 315ms/step - loss: 0.1923 - accuracy: 0.9365 - val_loss: 0.3231 - val_accuracy: 0.9151\n",
            "Epoch 34/50\n",
            "326/326 [==============================] - 103s 316ms/step - loss: 0.1865 - accuracy: 0.9358 - val_loss: 0.3198 - val_accuracy: 0.9151\n",
            "Epoch 35/50\n",
            "326/326 [==============================] - 103s 315ms/step - loss: 0.1890 - accuracy: 0.9331 - val_loss: 0.2686 - val_accuracy: 0.9151\n",
            "Epoch 36/50\n",
            "326/326 [==============================] - 102s 313ms/step - loss: 0.1843 - accuracy: 0.9371 - val_loss: 0.3435 - val_accuracy: 0.9135\n",
            "Epoch 37/50\n",
            "326/326 [==============================] - 101s 309ms/step - loss: 0.1807 - accuracy: 0.9387 - val_loss: 0.3064 - val_accuracy: 0.9167\n",
            "Epoch 38/50\n",
            "326/326 [==============================] - 101s 308ms/step - loss: 0.1829 - accuracy: 0.9381 - val_loss: 0.3045 - val_accuracy: 0.9135\n",
            "Epoch 39/50\n",
            "326/326 [==============================] - 100s 308ms/step - loss: 0.1793 - accuracy: 0.9400 - val_loss: 0.3979 - val_accuracy: 0.9006\n",
            "Epoch 40/50\n",
            "326/326 [==============================] - 99s 304ms/step - loss: 0.1743 - accuracy: 0.9400 - val_loss: 0.3343 - val_accuracy: 0.9087\n",
            "Epoch 41/50\n",
            "326/326 [==============================] - 100s 307ms/step - loss: 0.1860 - accuracy: 0.9390 - val_loss: 0.2971 - val_accuracy: 0.9247\n",
            "Epoch 42/50\n",
            "326/326 [==============================] - 99s 304ms/step - loss: 0.1731 - accuracy: 0.9442 - val_loss: 0.2646 - val_accuracy: 0.9247\n",
            "Epoch 43/50\n",
            "326/326 [==============================] - 100s 306ms/step - loss: 0.1869 - accuracy: 0.9377 - val_loss: 0.3203 - val_accuracy: 0.9151\n",
            "Epoch 44/50\n",
            "326/326 [==============================] - 101s 309ms/step - loss: 0.1680 - accuracy: 0.9421 - val_loss: 0.4492 - val_accuracy: 0.9006\n",
            "Epoch 45/50\n",
            "326/326 [==============================] - 99s 305ms/step - loss: 0.1753 - accuracy: 0.9402 - val_loss: 0.2631 - val_accuracy: 0.9167\n",
            "Epoch 46/50\n",
            "326/326 [==============================] - 100s 306ms/step - loss: 0.1748 - accuracy: 0.9404 - val_loss: 0.2518 - val_accuracy: 0.9231\n",
            "Epoch 47/50\n",
            "326/326 [==============================] - 99s 305ms/step - loss: 0.1752 - accuracy: 0.9369 - val_loss: 0.3903 - val_accuracy: 0.9087\n",
            "Epoch 48/50\n",
            "326/326 [==============================] - 100s 306ms/step - loss: 0.1833 - accuracy: 0.9404 - val_loss: 0.3032 - val_accuracy: 0.9167\n",
            "Epoch 49/50\n",
            "326/326 [==============================] - 99s 303ms/step - loss: 0.1624 - accuracy: 0.9392 - val_loss: 0.3351 - val_accuracy: 0.9071\n",
            "Epoch 50/50\n",
            "326/326 [==============================] - 99s 305ms/step - loss: 0.1623 - accuracy: 0.9434 - val_loss: 0.3716 - val_accuracy: 0.9199\n"
          ]
        }
      ]
    },
    {
      "cell_type": "code",
      "source": [
        "plt.figure(figsize=(12, 8))\n",
        "\n",
        "plt.subplot(2, 2, 1)\n",
        "plt.plot(cnn1.history['loss'], label='Loss')\n",
        "plt.plot(cnn1.history['val_loss'], label='Test_Loss')\n",
        "plt.legend()\n",
        "plt.title('Loss Evolution')\n",
        "\n",
        "plt.subplot(2, 2, 2)\n",
        "plt.plot(cnn1.history['accuracy'], label='Accuracy')\n",
        "plt.plot(cnn1.history['val_accuracy'], label='Test_Accuracy')\n",
        "plt.legend()\n",
        "plt.title('Accuracy Evolution')"
      ],
      "metadata": {
        "colab": {
          "base_uri": "https://localhost:8080/",
          "height": 280
        },
        "id": "XGx8hq5AB6xd",
        "outputId": "f59d8427-6564-4e99-abdf-73d431266868"
      },
      "execution_count": null,
      "outputs": [
        {
          "output_type": "execute_result",
          "data": {
            "text/plain": [
              "Text(0.5, 1.0, 'Accuracy Evolution')"
            ]
          },
          "metadata": {},
          "execution_count": 8
        },
        {
          "output_type": "display_data",
          "data": {
            "image/png": "[encoded data removed]",
            "text/plain": [
              "<Figure size 864x576 with 2 Axes>"
            ]
          },
          "metadata": {
            "needs_background": "light"
          }
        }
      ]
    },
    {
      "cell_type": "code",
      "source": [
        "evaluation = cnn.evaluate(test_set)\n",
        "print(f\"Test Accuracy: {evaluation[1] * 100:.2f}%\")\n",
        "\n",
        "evaluation = cnn.evaluate(training_set)\n",
        "print(f\"Train Accuracy: {evaluation[1] * 100:.2f}%\")"
      ],
      "metadata": {
        "colab": {
          "base_uri": "https://localhost:8080/"
        },
        "id": "NPH-pG55x_Dv",
        "outputId": "b9f78870-e55f-41fe-d186-a95a1c24e86b"
      },
      "execution_count": null,
      "outputs": [
        {
          "output_type": "stream",
          "name": "stdout",
          "text": [
            "39/39 [==============================] - 8s 197ms/step - loss: 0.3716 - accuracy: 0.9199\n",
            "Test Accuracy: 91.99%\n",
            "326/326 [==============================] - 95s 290ms/step - loss: 0.1176 - accuracy: 0.9641\n",
            "Train Accuracy: 96.41%\n"
          ]
        }
      ]
    }
  ]
}